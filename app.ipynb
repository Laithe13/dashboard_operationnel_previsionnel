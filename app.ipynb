{
 "cells": [
  {
   "cell_type": "code",
   "execution_count": 1,
   "id": "1cf29616-a1a9-4deb-883a-2a9aea0b2720",
   "metadata": {},
   "outputs": [],
   "source": [
    "import streamlit as st\n",
    "from streamlit_extras.switch_page_button import switch_page\n",
    "from styles import inject_css, inject_header  # Importer la fonction depuis styles.py\n"
   ]
  },
  {
   "cell_type": "code",
   "execution_count": null,
   "id": "2acfb8e1-3361-4936-a8cc-da428258a624",
   "metadata": {},
   "outputs": [],
   "source": [
    "# Beauté des ongles\n",
    "inject_header()\n",
    "inject_css()"
   ]
  },
  {
   "cell_type": "code",
   "execution_count": 4,
   "id": "68e214cc-7010-4e3a-a877-adf257eab9fd",
   "metadata": {},
   "outputs": [
    {
     "name": "stderr",
     "output_type": "stream",
     "text": [
      "2024-10-01 09:51:10.565 WARNING streamlit.runtime.scriptrunner_utils.script_run_context: Thread 'MainThread': missing ScriptRunContext! This warning can be ignored when running in bare mode.\n",
      "2024-10-01 09:51:10.612 \n",
      "  \u001b[33m\u001b[1mWarning:\u001b[0m to view this Streamlit app on a browser, run it with the following\n",
      "  command:\n",
      "\n",
      "    streamlit run C:\\Users\\laithe\\anaconda3\\Lib\\site-packages\\ipykernel_launcher.py [ARGUMENTS]\n",
      "2024-10-01 09:51:10.612 Thread 'MainThread': missing ScriptRunContext! This warning can be ignored when running in bare mode.\n",
      "2024-10-01 09:51:10.612 Thread 'MainThread': missing ScriptRunContext! This warning can be ignored when running in bare mode.\n",
      "2024-10-01 09:51:10.612 Thread 'MainThread': missing ScriptRunContext! This warning can be ignored when running in bare mode.\n",
      "2024-10-01 09:51:10.612 Thread 'MainThread': missing ScriptRunContext! This warning can be ignored when running in bare mode.\n",
      "2024-10-01 09:51:10.612 Thread 'MainThread': missing ScriptRunContext! This warning can be ignored when running in bare mode.\n",
      "2024-10-01 09:51:10.612 Thread 'MainThread': missing ScriptRunContext! This warning can be ignored when running in bare mode.\n",
      "2024-10-01 09:51:10.612 Thread 'MainThread': missing ScriptRunContext! This warning can be ignored when running in bare mode.\n",
      "2024-10-01 09:51:10.612 Thread 'MainThread': missing ScriptRunContext! This warning can be ignored when running in bare mode.\n",
      "2024-10-01 09:51:10.612 Thread 'MainThread': missing ScriptRunContext! This warning can be ignored when running in bare mode.\n"
     ]
    }
   ],
   "source": [
    "# Titre de la page\n",
    "st.markdown(\"<h2>Bienvenue cher investisseurs</h2>\", unsafe_allow_html=True)\n",
    "\n",
    "# Texte de bienvenue\n",
    "st.markdown(\"\"\"\n",
    "<p>Ce tableau de bord a été conçu pour vous, futurs actionnaires, afin de vous offrir une vue d'ensemble claire et prospective de notre entreprise de travaux publics spécialisée dans l'utilisation de tractopelles. \n",
    "Il vous permettra de mieux comprendre les liens entre notre gestion opérationnelle, les dépenses, et notre chiffre d'affaires, tout en mettant en lumière les opportunités de rentabilité à long terme. Explorez les sections pour plus de détails et passez à la page suivante pour voir les prévisions financières.\n",
    "</p>\n",
    "\n",
    "\n",
    "\"\"\", unsafe_allow_html=True)\n",
    "\n",
    "# Logique du bouton\n",
    "if st.button(\"Commencez\"):\n",
    "    switch_page(\"operation schedule\")"
   ]
  }
 ],
 "metadata": {
  "kernelspec": {
   "display_name": "Python 3 (ipykernel)",
   "language": "python",
   "name": "python3"
  },
  "language_info": {
   "codemirror_mode": {
    "name": "ipython",
    "version": 3
   },
   "file_extension": ".py",
   "mimetype": "text/x-python",
   "name": "python",
   "nbconvert_exporter": "python",
   "pygments_lexer": "ipython3",
   "version": "3.11.5"
  }
 },
 "nbformat": 4,
 "nbformat_minor": 5
}
